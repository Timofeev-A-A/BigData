{
 "cells": [
  {
   "cell_type": "code",
   "execution_count": 17,
   "metadata": {
    "collapsed": true
   },
   "outputs": [
    {
     "ename": "ContextualVersionConflict",
     "evalue": "(setuptools 63.2.0 (c:\\users\\tsash\\appdata\\local\\programs\\python\\python310\\lib\\site-packages), Requirement.parse('setuptools<60'), {'numba'})",
     "output_type": "error",
     "traceback": [
      "\u001B[1;31m---------------------------------------------------------------------------\u001B[0m",
      "\u001B[1;31mContextualVersionConflict\u001B[0m                 Traceback (most recent call last)",
      "Cell \u001B[1;32mIn [17], line 4\u001B[0m\n\u001B[0;32m      2\u001B[0m \u001B[38;5;28;01mimport\u001B[39;00m \u001B[38;5;21;01mmatplotlib\u001B[39;00m\u001B[38;5;21;01m.\u001B[39;00m\u001B[38;5;21;01mpyplot\u001B[39;00m \u001B[38;5;28;01mas\u001B[39;00m \u001B[38;5;21;01mplt\u001B[39;00m\n\u001B[0;32m      3\u001B[0m \u001B[38;5;28;01mimport\u001B[39;00m \u001B[38;5;21;01mnumpy\u001B[39;00m \u001B[38;5;28;01mas\u001B[39;00m \u001B[38;5;21;01mnp\u001B[39;00m\n\u001B[1;32m----> 4\u001B[0m \u001B[38;5;28;01mimport\u001B[39;00m \u001B[38;5;21;01mumap\u001B[39;00m\n\u001B[0;32m      5\u001B[0m \u001B[38;5;28;01mimport\u001B[39;00m \u001B[38;5;21;01mpandas\u001B[39;00m \u001B[38;5;28;01mas\u001B[39;00m \u001B[38;5;21;01mpd\u001B[39;00m\n\u001B[0;32m      6\u001B[0m \u001B[38;5;28;01mimport\u001B[39;00m \u001B[38;5;21;01mseaborn\u001B[39;00m \u001B[38;5;28;01mas\u001B[39;00m \u001B[38;5;21;01msns\u001B[39;00m\n",
      "File \u001B[1;32m~\\AppData\\Local\\Programs\\Python\\Python310\\lib\\site-packages\\umap\\__init__.py:2\u001B[0m\n\u001B[0;32m      1\u001B[0m \u001B[38;5;28;01mfrom\u001B[39;00m \u001B[38;5;21;01mwarnings\u001B[39;00m \u001B[38;5;28;01mimport\u001B[39;00m warn, catch_warnings, simplefilter\n\u001B[1;32m----> 2\u001B[0m \u001B[38;5;28;01mfrom\u001B[39;00m \u001B[38;5;21;01m.\u001B[39;00m\u001B[38;5;21;01mumap_\u001B[39;00m \u001B[38;5;28;01mimport\u001B[39;00m UMAP\n\u001B[0;32m      4\u001B[0m \u001B[38;5;28;01mtry\u001B[39;00m:\n\u001B[0;32m      5\u001B[0m     \u001B[38;5;28;01mwith\u001B[39;00m catch_warnings():\n",
      "File \u001B[1;32m~\\AppData\\Local\\Programs\\Python\\Python310\\lib\\site-packages\\umap\\umap_.py:47\u001B[0m\n\u001B[0;32m     40\u001B[0m \u001B[38;5;28;01mfrom\u001B[39;00m \u001B[38;5;21;01mumap\u001B[39;00m\u001B[38;5;21;01m.\u001B[39;00m\u001B[38;5;21;01mspectral\u001B[39;00m \u001B[38;5;28;01mimport\u001B[39;00m spectral_layout\n\u001B[0;32m     41\u001B[0m \u001B[38;5;28;01mfrom\u001B[39;00m \u001B[38;5;21;01mumap\u001B[39;00m\u001B[38;5;21;01m.\u001B[39;00m\u001B[38;5;21;01mlayouts\u001B[39;00m \u001B[38;5;28;01mimport\u001B[39;00m (\n\u001B[0;32m     42\u001B[0m     optimize_layout_euclidean,\n\u001B[0;32m     43\u001B[0m     optimize_layout_generic,\n\u001B[0;32m     44\u001B[0m     optimize_layout_inverse,\n\u001B[0;32m     45\u001B[0m )\n\u001B[1;32m---> 47\u001B[0m \u001B[38;5;28;01mfrom\u001B[39;00m \u001B[38;5;21;01mpynndescent\u001B[39;00m \u001B[38;5;28;01mimport\u001B[39;00m NNDescent\n\u001B[0;32m     48\u001B[0m \u001B[38;5;28;01mfrom\u001B[39;00m \u001B[38;5;21;01mpynndescent\u001B[39;00m\u001B[38;5;21;01m.\u001B[39;00m\u001B[38;5;21;01mdistances\u001B[39;00m \u001B[38;5;28;01mimport\u001B[39;00m named_distances \u001B[38;5;28;01mas\u001B[39;00m pynn_named_distances\n\u001B[0;32m     49\u001B[0m \u001B[38;5;28;01mfrom\u001B[39;00m \u001B[38;5;21;01mpynndescent\u001B[39;00m\u001B[38;5;21;01m.\u001B[39;00m\u001B[38;5;21;01msparse\u001B[39;00m \u001B[38;5;28;01mimport\u001B[39;00m sparse_named_distances \u001B[38;5;28;01mas\u001B[39;00m pynn_sparse_named_distances\n",
      "File \u001B[1;32m~\\AppData\\Local\\Programs\\Python\\Python310\\lib\\site-packages\\pynndescent\\__init__.py:15\u001B[0m\n\u001B[0;32m     11\u001B[0m     \u001B[38;5;28;01mexcept\u001B[39;00m \u001B[38;5;167;01mImportError\u001B[39;00m \u001B[38;5;28;01mas\u001B[39;00m e:\n\u001B[0;32m     12\u001B[0m         \u001B[38;5;66;03m# might be a missing symbol due to e.g. tbb libraries missing\u001B[39;00m\n\u001B[0;32m     13\u001B[0m         numba\u001B[38;5;241m.\u001B[39mconfig\u001B[38;5;241m.\u001B[39mTHREADING_LAYER \u001B[38;5;241m=\u001B[39m \u001B[38;5;124m\"\u001B[39m\u001B[38;5;124mworkqueue\u001B[39m\u001B[38;5;124m\"\u001B[39m\n\u001B[1;32m---> 15\u001B[0m __version__ \u001B[38;5;241m=\u001B[39m \u001B[43mpkg_resources\u001B[49m\u001B[38;5;241;43m.\u001B[39;49m\u001B[43mget_distribution\u001B[49m\u001B[43m(\u001B[49m\u001B[38;5;124;43m\"\u001B[39;49m\u001B[38;5;124;43mpynndescent\u001B[39;49m\u001B[38;5;124;43m\"\u001B[39;49m\u001B[43m)\u001B[49m\u001B[38;5;241m.\u001B[39mversion\n",
      "File \u001B[1;32m~\\AppData\\Local\\Programs\\Python\\Python310\\lib\\site-packages\\pkg_resources\\__init__.py:478\u001B[0m, in \u001B[0;36mget_distribution\u001B[1;34m(dist)\u001B[0m\n\u001B[0;32m    477\u001B[0m \u001B[38;5;28;01mdef\u001B[39;00m \u001B[38;5;21mload_entry_point\u001B[39m(dist, group, name):\n\u001B[1;32m--> 478\u001B[0m     \u001B[38;5;124;03m\"\"\"Return `name` entry point of `group` for `dist` or raise ImportError\"\"\"\u001B[39;00m\n\u001B[0;32m    479\u001B[0m     \u001B[38;5;28;01mreturn\u001B[39;00m get_distribution(dist)\u001B[38;5;241m.\u001B[39mload_entry_point(group, name)\n",
      "File \u001B[1;32m~\\AppData\\Local\\Programs\\Python\\Python310\\lib\\site-packages\\pkg_resources\\__init__.py:354\u001B[0m, in \u001B[0;36mget_provider\u001B[1;34m(moduleOrReq)\u001B[0m\n\u001B[0;32m    352\u001B[0m     module \u001B[38;5;241m=\u001B[39m sys\u001B[38;5;241m.\u001B[39mmodules[moduleOrReq]\n\u001B[0;32m    353\u001B[0m loader \u001B[38;5;241m=\u001B[39m \u001B[38;5;28mgetattr\u001B[39m(module, \u001B[38;5;124m'\u001B[39m\u001B[38;5;124m__loader__\u001B[39m\u001B[38;5;124m'\u001B[39m, \u001B[38;5;28;01mNone\u001B[39;00m)\n\u001B[1;32m--> 354\u001B[0m \u001B[38;5;28;01mreturn\u001B[39;00m _find_adapter(_provider_factories, loader)(module)\n",
      "File \u001B[1;32m~\\AppData\\Local\\Programs\\Python\\Python310\\lib\\site-packages\\pkg_resources\\__init__.py:909\u001B[0m, in \u001B[0;36mrequire\u001B[1;34m(self, *requirements)\u001B[0m\n\u001B[0;32m    907\u001B[0m \u001B[38;5;28;01mif\u001B[39;00m \u001B[38;5;129;01mnot\u001B[39;00m existing:\n\u001B[0;32m    908\u001B[0m     \u001B[38;5;28;01mreturn\u001B[39;00m\n\u001B[1;32m--> 909\u001B[0m \u001B[38;5;28;01mfor\u001B[39;00m dist \u001B[38;5;129;01min\u001B[39;00m \u001B[38;5;28mself\u001B[39m:\n\u001B[0;32m    910\u001B[0m     callback(dist)\n",
      "File \u001B[1;32m~\\AppData\\Local\\Programs\\Python\\Python310\\lib\\site-packages\\pkg_resources\\__init__.py:800\u001B[0m, in \u001B[0;36mresolve\u001B[1;34m(self, requirements, env, installer, replace_conflicting, extras)\u001B[0m\n\u001B[0;32m    798\u001B[0m \u001B[38;5;28;01mdef\u001B[39;00m \u001B[38;5;21mfind_plugins\u001B[39m(\n\u001B[0;32m    799\u001B[0m         \u001B[38;5;28mself\u001B[39m, plugin_env, full_env\u001B[38;5;241m=\u001B[39m\u001B[38;5;28;01mNone\u001B[39;00m, installer\u001B[38;5;241m=\u001B[39m\u001B[38;5;28;01mNone\u001B[39;00m, fallback\u001B[38;5;241m=\u001B[39m\u001B[38;5;28;01mTrue\u001B[39;00m):\n\u001B[1;32m--> 800\u001B[0m     \u001B[38;5;124;03m\"\"\"Find all activatable distributions in `plugin_env`\u001B[39;00m\n\u001B[0;32m    801\u001B[0m \n\u001B[0;32m    802\u001B[0m \u001B[38;5;124;03m    Example usage::\u001B[39;00m\n\u001B[0;32m    803\u001B[0m \n\u001B[0;32m    804\u001B[0m \u001B[38;5;124;03m        distributions, errors = working_set.find_plugins(\u001B[39;00m\n\u001B[0;32m    805\u001B[0m \u001B[38;5;124;03m            Environment(plugin_dirlist)\u001B[39;00m\n\u001B[0;32m    806\u001B[0m \u001B[38;5;124;03m        )\u001B[39;00m\n\u001B[0;32m    807\u001B[0m \u001B[38;5;124;03m        # add plugins+libs to sys.path\u001B[39;00m\n\u001B[0;32m    808\u001B[0m \u001B[38;5;124;03m        map(working_set.add, distributions)\u001B[39;00m\n\u001B[0;32m    809\u001B[0m \u001B[38;5;124;03m        # display errors\u001B[39;00m\n\u001B[0;32m    810\u001B[0m \u001B[38;5;124;03m        print('Could not load', errors)\u001B[39;00m\n\u001B[0;32m    811\u001B[0m \n\u001B[0;32m    812\u001B[0m \u001B[38;5;124;03m    The `plugin_env` should be an ``Environment`` instance that contains\u001B[39;00m\n\u001B[0;32m    813\u001B[0m \u001B[38;5;124;03m    only distributions that are in the project's \"plugin directory\" or\u001B[39;00m\n\u001B[0;32m    814\u001B[0m \u001B[38;5;124;03m    directories. The `full_env`, if supplied, should be an ``Environment``\u001B[39;00m\n\u001B[0;32m    815\u001B[0m \u001B[38;5;124;03m    contains all currently-available distributions.  If `full_env` is not\u001B[39;00m\n\u001B[0;32m    816\u001B[0m \u001B[38;5;124;03m    supplied, one is created automatically from the ``WorkingSet`` this\u001B[39;00m\n\u001B[0;32m    817\u001B[0m \u001B[38;5;124;03m    method is called on, which will typically mean that every directory on\u001B[39;00m\n\u001B[0;32m    818\u001B[0m \u001B[38;5;124;03m    ``sys.path`` will be scanned for distributions.\u001B[39;00m\n\u001B[0;32m    819\u001B[0m \n\u001B[0;32m    820\u001B[0m \u001B[38;5;124;03m    `installer` is a standard installer callback as used by the\u001B[39;00m\n\u001B[0;32m    821\u001B[0m \u001B[38;5;124;03m    ``resolve()`` method. The `fallback` flag indicates whether we should\u001B[39;00m\n\u001B[0;32m    822\u001B[0m \u001B[38;5;124;03m    attempt to resolve older versions of a plugin if the newest version\u001B[39;00m\n\u001B[0;32m    823\u001B[0m \u001B[38;5;124;03m    cannot be resolved.\u001B[39;00m\n\u001B[0;32m    824\u001B[0m \n\u001B[0;32m    825\u001B[0m \u001B[38;5;124;03m    This method returns a 2-tuple: (`distributions`, `error_info`), where\u001B[39;00m\n\u001B[0;32m    826\u001B[0m \u001B[38;5;124;03m    `distributions` is a list of the distributions found in `plugin_env`\u001B[39;00m\n\u001B[0;32m    827\u001B[0m \u001B[38;5;124;03m    that were loadable, along with any other distributions that are needed\u001B[39;00m\n\u001B[0;32m    828\u001B[0m \u001B[38;5;124;03m    to resolve their dependencies.  `error_info` is a dictionary mapping\u001B[39;00m\n\u001B[0;32m    829\u001B[0m \u001B[38;5;124;03m    unloadable plugin distributions to an exception instance describing the\u001B[39;00m\n\u001B[0;32m    830\u001B[0m \u001B[38;5;124;03m    error that occurred. Usually this will be a ``DistributionNotFound`` or\u001B[39;00m\n\u001B[0;32m    831\u001B[0m \u001B[38;5;124;03m    ``VersionConflict`` instance.\u001B[39;00m\n\u001B[0;32m    832\u001B[0m \u001B[38;5;124;03m    \"\"\"\u001B[39;00m\n\u001B[0;32m    834\u001B[0m     plugin_projects \u001B[38;5;241m=\u001B[39m \u001B[38;5;28mlist\u001B[39m(plugin_env)\n\u001B[0;32m    835\u001B[0m     \u001B[38;5;66;03m# scan project names in alphabetic order\u001B[39;00m\n",
      "\u001B[1;31mContextualVersionConflict\u001B[0m: (setuptools 63.2.0 (c:\\users\\tsash\\appdata\\local\\programs\\python\\python310\\lib\\site-packages), Requirement.parse('setuptools<60'), {'numba'})"
     ]
    }
   ],
   "source": [
    "from sklearn.manifold import TSNE\n",
    "import matplotlib.pyplot as plt\n",
    "import umap\n",
    "import pandas as pd\n",
    "import seaborn as sns\n",
    "from sklearn import preprocessing\n",
    "\n",
    "def tsne_visualiser(df, data):\n",
    " for perp in [5, 25, 50]:\n",
    "  tsne = TSNE(n_components=2,perplexity=perp, random_state=125)\n",
    "  tsne_features = tsne.fit_transform(data)\n",
    "  DATA = data.copy()\n",
    "  DATA['x']=tsne_features[:,0]\n",
    "  DATA['y']=tsne_features[:,1]\n",
    "\n",
    "  fig= plt.figure()\n",
    "  sns.scatterplot(x='x',y='y',hue=df['class_type'],data=DATA,palette='pastel')\n",
    "  plt.title(label=\"perplexity \"+str(perp))\n",
    "  plt.legend(title='Animal type', labels=['Reptile','Fish','Amphibian','Insect','Invertebrates','Mammal','Birb'])\n",
    "  plt.show()\n",
    "\n",
    "def umap_visualiser(df, data):\n",
    " for n in (5, 25, 50):\n",
    "  for d in (0.1, 0.5):\n",
    "   um = umap.UMAP(n_neighbors=n, min_dist=d, random_state=125).fit_transform(data)\n",
    "   DATA = data.copy()\n",
    "   DATA['x']=um[:,0]\n",
    "   DATA['y']=um[:,1]\n",
    "   fig= plt.figure()\n",
    "   sns.scatterplot(x='x',y='y',hue=df['class_type'],data=DATA,palette='pastel')\n",
    "   plt.title(label=f\"neighbors {n}, distance {d}\")\n",
    "   plt.legend(title='Animal type', labels=['Reptile','Fish','Amphibian','Insect','Invertebrates','Mammal','Birb'])\n",
    "   plt.show()\n",
    "\n",
    "if __name__ == '__main__':\n",
    " dfo = pd.read_csv('zoo.csv')\n",
    " dataFrame = dfo.drop(['class_type','animal_name'], axis=1)\n",
    " scaler = preprocessing.MinMaxScaler()\n",
    " dataFrame = pd.DataFrame(scaler.fit_transform(dataFrame), columns=dataFrame.columns)\n",
    " tsne_visualiser(df=dfo, data=dataFrame)\n",
    " umap_visualiser(df=dfo, data=dataFrame)"
   ]
  }
 ],
 "metadata": {
  "kernelspec": {
   "display_name": "Python 3",
   "language": "python",
   "name": "python3"
  },
  "language_info": {
   "codemirror_mode": {
    "name": "ipython",
    "version": 2
   },
   "file_extension": ".py",
   "mimetype": "text/x-python",
   "name": "python",
   "nbconvert_exporter": "python",
   "pygments_lexer": "ipython2",
   "version": "2.7.6"
  }
 },
 "nbformat": 4,
 "nbformat_minor": 0
}